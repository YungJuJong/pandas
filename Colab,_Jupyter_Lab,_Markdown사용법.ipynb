{
  "nbformat": 4,
  "nbformat_minor": 0,
  "metadata": {
    "colab": {
      "name": "Colab, Jupyter Lab, Markdown사용법.ipynb",
      "private_outputs": true,
      "provenance": [],
      "collapsed_sections": [],
      "toc_visible": true,
      "include_colab_link": true
    },
    "kernelspec": {
      "name": "python3",
      "display_name": "Python 3"
    },
    "language_info": {
      "name": "python"
    },
    "accelerator": "GPU"
  },
  "cells": [
    {
      "cell_type": "markdown",
      "metadata": {
        "id": "view-in-github",
        "colab_type": "text"
      },
      "source": [
        "<a href=\"https://colab.research.google.com/github/YungJuJong/pandas/blob/master/Colab%2C_Jupyter_Lab%2C_Markdown%EC%82%AC%EC%9A%A9%EB%B2%95.ipynb\" target=\"_parent\"><img src=\"https://colab.research.google.com/assets/colab-badge.svg\" alt=\"Open In Colab\"/></a>"
      ]
    },
    {
      "cell_type": "markdown",
      "metadata": {
        "id": "SlL6BlOCQ7AL"
      },
      "source": [
        "## colab 기초 사용법 "
      ]
    },
    {
      "cell_type": "code",
      "metadata": {
        "id": "sy3nWu_NCpxP"
      },
      "source": [
        "import platform"
      ],
      "execution_count": null,
      "outputs": []
    },
    {
      "cell_type": "code",
      "metadata": {
        "id": "ZYDLagCUDKxz"
      },
      "source": [
        "platform.platform()"
      ],
      "execution_count": null,
      "outputs": []
    },
    {
      "cell_type": "code",
      "metadata": {
        "id": "-SzV4Wy4DYAN"
      },
      "source": [
        "!nl /etc/issue.net"
      ],
      "execution_count": null,
      "outputs": []
    },
    {
      "cell_type": "code",
      "metadata": {
        "id": "xT6fPMSRDdiO"
      },
      "source": [
        "!nl /proc/cpuinfo"
      ],
      "execution_count": null,
      "outputs": []
    },
    {
      "cell_type": "code",
      "metadata": {
        "id": "6PqskXuHDheu"
      },
      "source": [
        "!nl /proc/meminfo"
      ],
      "execution_count": null,
      "outputs": []
    },
    {
      "cell_type": "code",
      "metadata": {
        "id": "heRb04oiQzxI"
      },
      "source": [
        "!df -h"
      ],
      "execution_count": null,
      "outputs": []
    },
    {
      "cell_type": "code",
      "metadata": {
        "id": "yz34AE5sDl9U"
      },
      "source": [
        "!python --version"
      ],
      "execution_count": null,
      "outputs": []
    },
    {
      "cell_type": "markdown",
      "metadata": {
        "id": "_CpV0RDjQ6Vx"
      },
      "source": [
        ""
      ]
    },
    {
      "cell_type": "code",
      "metadata": {
        "id": "g77LsWM6FJRM"
      },
      "source": [
        "!ls"
      ],
      "execution_count": null,
      "outputs": []
    },
    {
      "cell_type": "markdown",
      "metadata": {
        "id": "VADA3MAsRWkT"
      },
      "source": [
        "## 마운트 개념 익히기\n",
        "### 접속을 확인함, 코드 복사하여 붙여 넣어야 인증됨\n"
      ]
    },
    {
      "cell_type": "code",
      "metadata": {
        "id": "oe1vHlBKGm1G"
      },
      "source": [
        "from google.colab import drive"
      ],
      "execution_count": null,
      "outputs": []
    },
    {
      "cell_type": "code",
      "metadata": {
        "id": "5uu6dHDiG0AZ"
      },
      "source": [
        "drive.mount('/content/drive')"
      ],
      "execution_count": null,
      "outputs": []
    },
    {
      "cell_type": "code",
      "metadata": {
        "id": "MYay_LGOHZTJ"
      },
      "source": [
        "!ls drive/MyDrive/"
      ],
      "execution_count": null,
      "outputs": []
    },
    {
      "cell_type": "code",
      "metadata": {
        "id": "sDGO7Lv3Hmyn"
      },
      "source": [
        "def myFun(x=100, y=300):\n",
        "    ''' 이건 재밌는 나만의 함수야 '''\n",
        "    return x+y"
      ],
      "execution_count": null,
      "outputs": []
    },
    {
      "cell_type": "code",
      "metadata": {
        "id": "DjYJlynbH-AD"
      },
      "source": [
        "myFun??"
      ],
      "execution_count": null,
      "outputs": []
    },
    {
      "cell_type": "code",
      "metadata": {
        "id": "leEiSNDRH_FD"
      },
      "source": [
        "myFun?"
      ],
      "execution_count": null,
      "outputs": []
    },
    {
      "cell_type": "code",
      "metadata": {
        "id": "c3bkBg7jIjdi"
      },
      "source": [
        "%alias"
      ],
      "execution_count": null,
      "outputs": []
    },
    {
      "cell_type": "markdown",
      "metadata": {
        "id": "HmjdaNrJ8356"
      },
      "source": [
        "# 새 섹션"
      ]
    },
    {
      "cell_type": "code",
      "metadata": {
        "id": "yeY7w8xJJnPi"
      },
      "source": [
        "print(_)"
      ],
      "execution_count": null,
      "outputs": []
    },
    {
      "cell_type": "code",
      "metadata": {
        "id": "i-ceRZ5tJ9Ip"
      },
      "source": [
        "print(__)"
      ],
      "execution_count": null,
      "outputs": []
    },
    {
      "cell_type": "code",
      "metadata": {
        "id": "KIAaAWCmJ-WQ"
      },
      "source": [
        "print(___)"
      ],
      "execution_count": null,
      "outputs": []
    },
    {
      "cell_type": "code",
      "metadata": {
        "id": "BUICXYLGJ_jx"
      },
      "source": [
        "%history"
      ],
      "execution_count": null,
      "outputs": []
    },
    {
      "cell_type": "code",
      "metadata": {
        "id": "TNzgSlTGKBGb"
      },
      "source": [
        "%history -n 1-5"
      ],
      "execution_count": null,
      "outputs": []
    },
    {
      "cell_type": "code",
      "metadata": {
        "id": "xGyrgF9kKWLw"
      },
      "source": [
        "%history -n 10-15"
      ],
      "execution_count": null,
      "outputs": []
    },
    {
      "cell_type": "code",
      "metadata": {
        "id": "__s1v2BJKZZr"
      },
      "source": [
        "%rerun"
      ],
      "execution_count": null,
      "outputs": []
    },
    {
      "cell_type": "code",
      "metadata": {
        "id": "4NvXhGBQLCWA"
      },
      "source": [
        "!pwd\n",
        "!ls"
      ],
      "execution_count": null,
      "outputs": []
    },
    {
      "cell_type": "code",
      "metadata": {
        "id": "YUKSy4XYLERk"
      },
      "source": [
        "!cd /content/sample_data/\n"
      ],
      "execution_count": null,
      "outputs": []
    },
    {
      "cell_type": "code",
      "metadata": {
        "id": "IswqnOQiLQlY"
      },
      "source": [
        "!ls"
      ],
      "execution_count": null,
      "outputs": []
    },
    {
      "cell_type": "markdown",
      "metadata": {
        "id": "pGM6RjJqL4VT"
      },
      "source": [
        "# 1\n",
        "## 2\n",
        "### 3\n",
        "#### 4\n",
        "##### 5\n",
        "###### 6"
      ]
    },
    {
      "cell_type": "markdown",
      "metadata": {
        "id": "nYlyjScC84Tk"
      },
      "source": [
        "# 목록 만들기\n",
        "## 단계별로 들여쓰기 가능"
      ]
    },
    {
      "cell_type": "markdown",
      "metadata": {
        "id": "31l8C25cMJJu"
      },
      "source": [
        "1. one\n",
        "2. two\n",
        "3. three\n",
        "* 1단계\n",
        "    + 2단계\n",
        "        - 3단계\n",
        "__bold__\n",
        "*italic*\n"
      ]
    },
    {
      "cell_type": "markdown",
      "metadata": {
        "id": "vDNMS0YzL_Mz"
      },
      "source": [
        "**bold**\n"
      ]
    },
    {
      "cell_type": "markdown",
      "metadata": {
        "id": "lNnO4F_bMqvM"
      },
      "source": [
        "[구글](http://google.com)"
      ]
    },
    {
      "cell_type": "markdown",
      "metadata": {
        "id": "vZq0RlRZM-bt"
      },
      "source": [
        "![image](https://www.google.com/images/branding/googlelogo/1x/googlelogo_color_272x92dp.png)\n"
      ]
    },
    {
      "cell_type": "markdown",
      "metadata": {
        "id": "GDK6LJSlNIT_"
      },
      "source": [
        "---\n"
      ]
    },
    {
      "cell_type": "markdown",
      "metadata": {
        "id": "dX3gTUOrNRP8"
      },
      "source": [
        "|a|c|d|\n",
        "|:---|---:|:---:|\n",
        "|D1|D2|D3|"
      ]
    },
    {
      "cell_type": "markdown",
      "metadata": {
        "id": "MVbZSUHPNnG7"
      },
      "source": [
        "`inline cole`"
      ]
    },
    {
      "cell_type": "markdown",
      "metadata": {
        "id": "MJNYjrgIOEIu"
      },
      "source": [
        "**bold**\n",
        "\n",
        "__bold__\n",
        "\n",
        "**한글**\n",
        "\n",
        "*기울기*\n",
        "\n",
        "~~취소선~~\n",
        "\n",
        "<u>밑줄</u>\n",
        "\n",
        "\n",
        "\n",
        "\n",
        "\n"
      ]
    },
    {
      "cell_type": "markdown",
      "metadata": {
        "id": "CxHMyevsT4Zx"
      },
      "source": [
        "---"
      ]
    },
    {
      "cell_type": "code",
      "metadata": {
        "id": "ZKDa4_OVV0el"
      },
      "source": [
        "for i in range(5):\n",
        "    print(i)"
      ],
      "execution_count": null,
      "outputs": []
    },
    {
      "cell_type": "code",
      "metadata": {
        "id": "QVo-aUYCTYs0"
      },
      "source": [
        "ls"
      ],
      "execution_count": null,
      "outputs": []
    },
    {
      "cell_type": "code",
      "metadata": {
        "id": "_JgDO26SWJV3"
      },
      "source": [
        "pwd"
      ],
      "execution_count": null,
      "outputs": []
    },
    {
      "cell_type": "code",
      "metadata": {
        "id": "Sxf8YEkNWMVp"
      },
      "source": [
        "%%writefile test.py\n",
        "print('안녕!!!')"
      ],
      "execution_count": null,
      "outputs": []
    },
    {
      "cell_type": "code",
      "metadata": {
        "id": "P1p2M4ynWWtF"
      },
      "source": [
        "ls"
      ],
      "execution_count": null,
      "outputs": []
    },
    {
      "cell_type": "code",
      "metadata": {
        "id": "K1wTdLeqWZD6"
      },
      "source": [
        "cat test.py"
      ],
      "execution_count": null,
      "outputs": []
    },
    {
      "cell_type": "code",
      "metadata": {
        "id": "cQZ9C808WbQC"
      },
      "source": [
        "!python3 test.py"
      ],
      "execution_count": null,
      "outputs": []
    },
    {
      "cell_type": "code",
      "metadata": {
        "id": "fCih6ygIWgtJ"
      },
      "source": [
        "from tensorflow.python.client import device_lib\n",
        "device_lib.list_local_devices()"
      ],
      "execution_count": null,
      "outputs": []
    },
    {
      "cell_type": "code",
      "metadata": {
        "id": "zZbyWXeeXPZC"
      },
      "source": [
        ""
      ],
      "execution_count": null,
      "outputs": []
    }
  ]
}